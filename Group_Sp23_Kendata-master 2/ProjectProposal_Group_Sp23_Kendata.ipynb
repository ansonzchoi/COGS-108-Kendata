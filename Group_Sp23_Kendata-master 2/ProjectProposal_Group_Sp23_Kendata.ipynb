{
 "cells": [
  {
   "cell_type": "markdown",
   "metadata": {},
   "source": [
    "# COGS 108 - Final Project Proposal"
   ]
  },
  {
   "cell_type": "markdown",
   "metadata": {},
   "source": [
    "# Names\n",
    "\n",
    "- Anson Choi\n",
    "- Ashley Ko\n",
    "- Ruichen Ma"
   ]
  },
  {
   "cell_type": "markdown",
   "metadata": {},
   "source": [
    "# Research Question"
   ]
  },
  {
   "cell_type": "markdown",
   "metadata": {},
   "source": [
    "Is there a statistically significant relationship between UCSD undergraduates joining Kendo Club and variables such as major, which school year they started, and ethnic identity? Additionally, how can we utilize these variables to identify a student population to better market the UCSD Kendo Club?\n"
   ]
  },
  {
   "cell_type": "markdown",
   "metadata": {},
   "source": [
    "## Background and Prior Work"
   ]
  },
  {
   "cell_type": "markdown",
   "metadata": {},
   "source": [
    "Kendo is a traditional Japanese martial art that uses bamboo swords and armor to spar with others. The Kendo Club at UCSD was founded in 1998 and promotes awareness and appreciation of this art by offering weekly practices through the UCSD Recreation Department **[1]**. The topic of interest in joining The Kendo Club at UCSD for UCSD undergraduate students is of interest to us because, as Kendo club members, we want to research which student demographics are most likely to be interested in Kendo. Through this project, we can better understand how to promote the club and increase member retention by appealing to the projected demographic(s).\n",
    "There has been no prior work done, to our knowledge, on the demographics of the average university student that participates in Kendo—Kendo is a relatively small community compared to other sports that student bodies commit to. However, there is data available on the undergraduate student population of UCSD that can help us to understand the overall demographics of UCSD. With this information, we can compare the large data set provided by UCSD to our collected data from UCSD Kendo Club members in terms of ratios to have a more accurate analysis of the effect different variables have on interest in Kendo. For example, the majority of undergraduate students at UCSD are Social Science majors (36.6%), followed by Engineering majors (18.8%), and Biology majors (17.5%) as of the 2021-2022 school year. Furthermore, the percentage of male students is slightly lower at 48.1% than female students at 50.7% **[2]**. These ratios can be used as context for the data we collect. \n",
    "\n",
    "\n",
    "**References**\n",
    "\n",
    "1. About. Kendo Club at UCSD. (n.d.). Retrieved May 2, 2023, from https://kendo.ucsd.edu/\n",
    "\n",
    "2. Office of Institutional Research Academic Affairs. (n.d.). UC San Diego Institutional Research Student Profile 2021-2022 Student Characteristics. Undergraduate student profile. Retrieved May 2, 2023, from https://ir.ucsd.edu/undergrad/publications/ug-student-profile.html"
   ]
  },
  {
   "cell_type": "markdown",
   "metadata": {},
   "source": [
    "# Hypothesis\n"
   ]
  },
  {
   "cell_type": "markdown",
   "metadata": {},
   "source": [
    "We believe there is a relationship between UCSD undergraduates joining Kendo Club and their major, which school year they started, gender, and ethnic identity. We think that the majority of UCSD undergraduates in Kendo identify as East Asian as Kendo is a traditional Japanese martial art. We do not think there is a correlation between UCSD undergraduate club members and their majors/gender due to all students having an equal opportunity to join the organization. We also believe that a negative correlation exists between the school year in which a student starts kendo and UCSD undergraduates that are in kendo as first and second years students are more inclined to explore clubs. "
   ]
  },
  {
   "cell_type": "markdown",
   "metadata": {},
   "source": [
    "# Data"
   ]
  },
  {
   "cell_type": "markdown",
   "metadata": {},
   "source": [
    "Our ideal data set would be collected through surveys and include the variables: members’ majors, which school year they started, gender, and ethnic identity. We would survey at least 35 undergraduate members of the club through Google Forms. \n",
    "We will use demographic data collected by UCSD to compare the statistical proportions of undergraduate students that participate in Kendo and the statistical proportions of all undergraduate students at UCSD. We can find this data online at this \"https://ir.ucsd.edu/undergrad/publications/21_22_StudentProfiles.pdf\"."
   ]
  },
  {
   "cell_type": "markdown",
   "metadata": {},
   "source": [
    "# Ethics & Privacy"
   ]
  },
  {
   "cell_type": "markdown",
   "metadata": {},
   "source": [
    "In regards to our data collection, members will complete the given survey of their own will and consent and can refuse to continue the survey at any point. We do acknowledge the possibility of a collection bias as we plan to send the survey through Discord. Members who are more active on Discord have a greater chance of completing the survey compared to members who are not as active. We will limit PII exposure as members will not need to provide PID or any other identifying information other than their name. We will also not include questions not relevant to our variables. The purpose of the data collection will also be disclosed to those who fill out the survey.\n",
    "\tConcerning data security, our data will only be used for academic purposes. The raw data collected from the Google Form will be only available to our team members and the link will only be able to be accessed by UCSD students. If a participant wishes to withdraw their data at any time, they may do so and will also be informed of this in the survey. \n",
    "\tA potential confound includes non-members and non-undergraduate students having access to the survey and being able to take it. To combat this, we will ask for students’ names and create conditional questions that do not allow students to continue the survey if they admit they are not an undergraduate student at UCSD.\n",
    "Another potential bias pertains to the COVID-19 pandemic. This factor may impact our data on the year in which students started Kendo since many students were not able to physically come to campus and the club also did not table/flyer (advertise the club) at this time. We acknowledge that many current second and third-year students could have been interested in joining the club during the pandemic but were unable to when analyzing our data.\n"
   ]
  },
  {
   "cell_type": "markdown",
   "metadata": {},
   "source": [
    "# Team Expectations "
   ]
  },
  {
   "cell_type": "markdown",
   "metadata": {},
   "source": [
    "* *Contribute equally and to the best of our abilities*\n",
    "* *Let others know ahead of time if one needs help or is unable to attend a meeting*\n",
    "* *Attend meetings on time *\n",
    "* *Respect one another and practice active listening *"
   ]
  },
  {
   "cell_type": "markdown",
   "metadata": {},
   "source": [
    "# Project Timeline Proposal"
   ]
  },
  {
   "cell_type": "markdown",
   "metadata": {},
   "source": [
    "| Meeting Date  | Meeting Time| Completed Before Meeting  | Discuss at Meeting |\n",
    "|---|---|---|---|\n",
    "| 5/2  |  6:30 PM | Read through the Project Proposal prompt  | Discuss and complete Project Proposal | \n",
    "| 5/9  |  6:30 PM |  Review Project Proposal | Create Surveys on Google Forms | \n",
    "| 5/16  | 6:30 PM  | Review Survey Data  | Determine and create what type of visual analysis fits our dataset best   |\n",
    "| 5/23  | 6:30 PM  | Visual analysis of the dataset completed | Review/Edit Write written analyses and predictions   |\n",
    "| 5/30  | 6:30 PM  | Review previous project work | Complete final touches and edit last details to be ready for submission |\n",
    "| 6/7  | 6:30 PM  | Designate presentation parts to each member | Create and submit the video presentation  |"
   ]
  }
 ],
 "metadata": {
  "kernelspec": {
   "display_name": "Python 3 (ipykernel)",
   "language": "python",
   "name": "python3"
  },
  "language_info": {
   "codemirror_mode": {
    "name": "ipython",
    "version": 3
   },
   "file_extension": ".py",
   "mimetype": "text/x-python",
   "name": "python",
   "nbconvert_exporter": "python",
   "pygments_lexer": "ipython3",
   "version": "3.10.9"
  }
 },
 "nbformat": 4,
 "nbformat_minor": 2
}
